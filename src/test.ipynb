{
 "cells": [
  {
   "cell_type": "code",
   "execution_count": 2,
   "metadata": {},
   "outputs": [
    {
     "data": {
      "text/html": [
       "<div>\n",
       "<style scoped>\n",
       "    .dataframe tbody tr th:only-of-type {\n",
       "        vertical-align: middle;\n",
       "    }\n",
       "\n",
       "    .dataframe tbody tr th {\n",
       "        vertical-align: top;\n",
       "    }\n",
       "\n",
       "    .dataframe thead th {\n",
       "        text-align: right;\n",
       "    }\n",
       "</style>\n",
       "<table border=\"1\" class=\"dataframe\">\n",
       "  <thead>\n",
       "    <tr style=\"text-align: right;\">\n",
       "      <th></th>\n",
       "      <th>Metal ion</th>\n",
       "      <th>Ligand</th>\n",
       "      <th>Formula</th>\n",
       "      <th>Ligand class</th>\n",
       "      <th>Equilibrium</th>\n",
       "      <th>Temperature (C)</th>\n",
       "      <th>Ionic strength</th>\n",
       "      <th>Value type</th>\n",
       "      <th>Value</th>\n",
       "      <th>Note</th>\n",
       "      <th>...</th>\n",
       "      <th>PyridineCount</th>\n",
       "      <th>MonoPhosphateCount</th>\n",
       "      <th>ImidazoleNHCount</th>\n",
       "      <th>CyclicAmineCount</th>\n",
       "      <th>Ligand_class_id</th>\n",
       "      <th>molecular_weight</th>\n",
       "      <th>HBD</th>\n",
       "      <th>HBA</th>\n",
       "      <th>logP</th>\n",
       "      <th>TPSA</th>\n",
       "    </tr>\n",
       "  </thead>\n",
       "  <tbody>\n",
       "    <tr>\n",
       "      <th>0</th>\n",
       "      <td>H⁺</td>\n",
       "      <td>Aminoacetic acid (Glycine)</td>\n",
       "      <td>C2H5N1O2</td>\n",
       "      <td>Amino Acids</td>\n",
       "      <td>[HL]/[L][H]</td>\n",
       "      <td>25</td>\n",
       "      <td>0.10</td>\n",
       "      <td>Log K</td>\n",
       "      <td>9.57</td>\n",
       "      <td>NaN</td>\n",
       "      <td>...</td>\n",
       "      <td>0</td>\n",
       "      <td>0</td>\n",
       "      <td>0</td>\n",
       "      <td>0</td>\n",
       "      <td>0</td>\n",
       "      <td>75.067</td>\n",
       "      <td>2</td>\n",
       "      <td>2</td>\n",
       "      <td>-0.9703</td>\n",
       "      <td>63.32</td>\n",
       "    </tr>\n",
       "    <tr>\n",
       "      <th>1</th>\n",
       "      <td>H⁺</td>\n",
       "      <td>Aminoacetic acid (Glycine)</td>\n",
       "      <td>C2H5N1O2</td>\n",
       "      <td>Amino Acids</td>\n",
       "      <td>[HL]/[L][H]</td>\n",
       "      <td>37</td>\n",
       "      <td>0.15</td>\n",
       "      <td>Log K</td>\n",
       "      <td>9.25</td>\n",
       "      <td>NaN</td>\n",
       "      <td>...</td>\n",
       "      <td>0</td>\n",
       "      <td>0</td>\n",
       "      <td>0</td>\n",
       "      <td>0</td>\n",
       "      <td>0</td>\n",
       "      <td>75.067</td>\n",
       "      <td>2</td>\n",
       "      <td>2</td>\n",
       "      <td>-0.9703</td>\n",
       "      <td>63.32</td>\n",
       "    </tr>\n",
       "    <tr>\n",
       "      <th>2</th>\n",
       "      <td>H⁺</td>\n",
       "      <td>Aminoacetic acid (Glycine)</td>\n",
       "      <td>C2H5N1O2</td>\n",
       "      <td>Amino Acids</td>\n",
       "      <td>[HL]/[L][H]</td>\n",
       "      <td>25</td>\n",
       "      <td>0.50</td>\n",
       "      <td>Log K</td>\n",
       "      <td>9.54</td>\n",
       "      <td>NaN</td>\n",
       "      <td>...</td>\n",
       "      <td>0</td>\n",
       "      <td>0</td>\n",
       "      <td>0</td>\n",
       "      <td>0</td>\n",
       "      <td>0</td>\n",
       "      <td>75.067</td>\n",
       "      <td>2</td>\n",
       "      <td>2</td>\n",
       "      <td>-0.9703</td>\n",
       "      <td>63.32</td>\n",
       "    </tr>\n",
       "    <tr>\n",
       "      <th>3</th>\n",
       "      <td>H⁺</td>\n",
       "      <td>Aminoacetic acid (Glycine)</td>\n",
       "      <td>C2H5N1O2</td>\n",
       "      <td>Amino Acids</td>\n",
       "      <td>[HL]/[L][H]</td>\n",
       "      <td>25</td>\n",
       "      <td>0.70</td>\n",
       "      <td>Log K</td>\n",
       "      <td>9.59</td>\n",
       "      <td>NaN</td>\n",
       "      <td>...</td>\n",
       "      <td>0</td>\n",
       "      <td>0</td>\n",
       "      <td>0</td>\n",
       "      <td>0</td>\n",
       "      <td>0</td>\n",
       "      <td>75.067</td>\n",
       "      <td>2</td>\n",
       "      <td>2</td>\n",
       "      <td>-0.9703</td>\n",
       "      <td>63.32</td>\n",
       "    </tr>\n",
       "    <tr>\n",
       "      <th>4</th>\n",
       "      <td>H⁺</td>\n",
       "      <td>Aminoacetic acid (Glycine)</td>\n",
       "      <td>C2H5N1O2</td>\n",
       "      <td>Amino Acids</td>\n",
       "      <td>[HL]/[L][H]</td>\n",
       "      <td>25</td>\n",
       "      <td>1.00</td>\n",
       "      <td>Log K</td>\n",
       "      <td>9.66</td>\n",
       "      <td>NaN</td>\n",
       "      <td>...</td>\n",
       "      <td>0</td>\n",
       "      <td>0</td>\n",
       "      <td>0</td>\n",
       "      <td>0</td>\n",
       "      <td>0</td>\n",
       "      <td>75.067</td>\n",
       "      <td>2</td>\n",
       "      <td>2</td>\n",
       "      <td>-0.9703</td>\n",
       "      <td>63.32</td>\n",
       "    </tr>\n",
       "  </tbody>\n",
       "</table>\n",
       "<p>5 rows × 25 columns</p>\n",
       "</div>"
      ],
      "text/plain": [
       "  Metal ion                      Ligand   Formula Ligand class  Equilibrium  \\\n",
       "0        H⁺  Aminoacetic acid (Glycine)  C2H5N1O2  Amino Acids  [HL]/[L][H]   \n",
       "1        H⁺  Aminoacetic acid (Glycine)  C2H5N1O2  Amino Acids  [HL]/[L][H]   \n",
       "2        H⁺  Aminoacetic acid (Glycine)  C2H5N1O2  Amino Acids  [HL]/[L][H]   \n",
       "3        H⁺  Aminoacetic acid (Glycine)  C2H5N1O2  Amino Acids  [HL]/[L][H]   \n",
       "4        H⁺  Aminoacetic acid (Glycine)  C2H5N1O2  Amino Acids  [HL]/[L][H]   \n",
       "\n",
       "   Temperature (C)  Ionic strength Value type  Value Note  ... PyridineCount  \\\n",
       "0               25            0.10      Log K   9.57  NaN  ...             0   \n",
       "1               37            0.15      Log K   9.25  NaN  ...             0   \n",
       "2               25            0.50      Log K   9.54  NaN  ...             0   \n",
       "3               25            0.70      Log K   9.59  NaN  ...             0   \n",
       "4               25            1.00      Log K   9.66  NaN  ...             0   \n",
       "\n",
       "   MonoPhosphateCount  ImidazoleNHCount  CyclicAmineCount  Ligand_class_id  \\\n",
       "0                   0                 0                 0                0   \n",
       "1                   0                 0                 0                0   \n",
       "2                   0                 0                 0                0   \n",
       "3                   0                 0                 0                0   \n",
       "4                   0                 0                 0                0   \n",
       "\n",
       "   molecular_weight  HBD  HBA    logP   TPSA  \n",
       "0            75.067    2    2 -0.9703  63.32  \n",
       "1            75.067    2    2 -0.9703  63.32  \n",
       "2            75.067    2    2 -0.9703  63.32  \n",
       "3            75.067    2    2 -0.9703  63.32  \n",
       "4            75.067    2    2 -0.9703  63.32  \n",
       "\n",
       "[5 rows x 25 columns]"
      ]
     },
     "execution_count": 2,
     "metadata": {},
     "output_type": "execute_result"
    }
   ],
   "source": [
    "import pandas as pd\n",
    "df = pd.read_csv(\"/work/u5066474/NTHU/LiveTransForM-main/OMGNN/data/NIST_database_onlyH_6TypeEq_pos_match_max_fg_other.csv\")\n",
    "df.head()"
   ]
  },
  {
   "cell_type": "code",
   "execution_count": 3,
   "metadata": {},
   "outputs": [],
   "source": [
    "import matplotlib.pyplot as plt"
   ]
  },
  {
   "cell_type": "code",
   "execution_count": 11,
   "metadata": {},
   "outputs": [
    {
     "data": {
      "image/png": "[encoded data removed]",
      "text/plain": [
       "<Figure size 640x480 with 1 Axes>"
      ]
     },
     "metadata": {},
     "output_type": "display_data"
    }
   ],
   "source": [
    "plt.hist(df['Temperature (C)'], bins=20)\n",
    "plt.show()"
   ]
  },
  {
   "cell_type": "code",
   "execution_count": null,
   "metadata": {},
   "outputs": [
    {
     "data": {
      "image/png": "[encoded data removed]",
      "text/plain": [
       "<Figure size 640x480 with 1 Axes>"
      ]
     },
     "metadata": {},
     "output_type": "display_data"
    }
   ],
   "source": [
    "plt.hist(df['Ionic strength'], bins=100)\n",
    "plt.show()"
   ]
  },
  {
   "cell_type": "code",
   "execution_count": 19,
   "metadata": {},
   "outputs": [],
   "source": [
    "grp = df[(df['Temperature (C)']  == 25) & (df['Ionic strength'] == 0.1)].groupby('Ligand')['Value'].agg(list).reset_index()"
   ]
  },
  {
   "cell_type": "code",
   "execution_count": 21,
   "metadata": {},
   "outputs": [],
   "source": [
    "grp['Num'] = grp['Value'].apply(len)"
   ]
  },
  {
   "cell_type": "code",
   "execution_count": 23,
   "metadata": {},
   "outputs": [],
   "source": [
    "grp = grp[['Ligand', 'Num', 'Value']]"
   ]
  },
  {
   "cell_type": "code",
   "execution_count": 25,
   "metadata": {},
   "outputs": [],
   "source": [
    "grp.to_csv(\"grp.csv\", index=False)"
   ]
  },
  {
   "cell_type": "code",
   "execution_count": 31,
   "metadata": {},
   "outputs": [
    {
     "data": {
      "text/plain": [
       "0             4.34,3.27\n",
       "1       10.45,4.86,2.52\n",
       "2                   3.6\n",
       "3                  3.77\n",
       "4                  3.61\n",
       "             ...       \n",
       "1169               4.48\n",
       "1170          4.09,2.84\n",
       "1171           5.7,4.65\n",
       "1172          4.95,2.81\n",
       "1173          5.65,4.41\n",
       "Length: 1174, dtype: object"
      ]
     },
     "execution_count": 31,
     "metadata": {},
     "output_type": "execute_result"
    }
   ],
   "source": [
    "grp.apply(lambda x: ','.join([str(i) for i in x['Value']]) if len(x['Value']) > 1 else x['Value'][0], axis=1)"
   ]
  },
  {
   "cell_type": "code",
   "execution_count": null,
   "metadata": {},
   "outputs": [],
   "source": []
  }
 ],
 "metadata": {
  "kernelspec": {
   "display_name": "base",
   "language": "python",
   "name": "python3"
  },
  "language_info": {
   "codemirror_mode": {
    "name": "ipython",
    "version": 3
   },
   "file_extension": ".py",
   "mimetype": "text/x-python",
   "name": "python",
   "nbconvert_exporter": "python",
   "pygments_lexer": "ipython3",
   "version": "3.9.16"
  }
 },
 "nbformat": 4,
 "nbformat_minor": 2
}
